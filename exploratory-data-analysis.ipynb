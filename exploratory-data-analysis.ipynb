{
 "cells": [
  {
   "cell_type": "code",
   "execution_count": 1,
   "metadata": {},
   "outputs": [],
   "source": [
    "import matplotlib.pyplot as plt\n",
    "import plotly.express as px\n",
    "import pandas_profiling\n",
    "import pandas as pd\n",
    "import os"
   ]
  },
  {
   "cell_type": "markdown",
   "metadata": {},
   "source": [
    "## Simple Data Processing"
   ]
  },
  {
   "cell_type": "code",
   "execution_count": 4,
   "metadata": {},
   "outputs": [],
   "source": [
    "PATH = os.path.join(\"./data_raw\", \"resale_flat_prices\")"
   ]
  },
  {
   "cell_type": "code",
   "execution_count": 3,
   "metadata": {},
   "outputs": [],
   "source": [
    "files = os.listdir(PATH)\n",
    "data_files = [fname for fname in files if \".csv\" in fname and \"resale-flat-prices\" in fname]\n",
    "df_list = []\n",
    "\n",
    "for fname in data_files:\n",
    "  df = pd.read_csv(os.path.join(PATH, fname))\n",
    "  df_list.append(df)\n",
    "\n",
    "df_combined = pd.concat(df_list)"
   ]
  },
  {
   "cell_type": "code",
   "execution_count": 4,
   "metadata": {},
   "outputs": [
    {
     "data": {
      "text/html": [
       "<div>\n",
       "<style scoped>\n",
       "    .dataframe tbody tr th:only-of-type {\n",
       "        vertical-align: middle;\n",
       "    }\n",
       "\n",
       "    .dataframe tbody tr th {\n",
       "        vertical-align: top;\n",
       "    }\n",
       "\n",
       "    .dataframe thead th {\n",
       "        text-align: right;\n",
       "    }\n",
       "</style>\n",
       "<table border=\"1\" class=\"dataframe\">\n",
       "  <thead>\n",
       "    <tr style=\"text-align: right;\">\n",
       "      <th></th>\n",
       "      <th>month</th>\n",
       "      <th>town</th>\n",
       "      <th>flat_type</th>\n",
       "      <th>block</th>\n",
       "      <th>street_name</th>\n",
       "      <th>storey_range</th>\n",
       "      <th>floor_area_sqm</th>\n",
       "      <th>flat_model</th>\n",
       "      <th>lease_commence_date</th>\n",
       "      <th>resale_price</th>\n",
       "      <th>remaining_lease</th>\n",
       "    </tr>\n",
       "  </thead>\n",
       "  <tbody>\n",
       "    <tr>\n",
       "      <th>880838</th>\n",
       "      <td>2022-09</td>\n",
       "      <td>GEYLANG</td>\n",
       "      <td>3 ROOM</td>\n",
       "      <td>91</td>\n",
       "      <td>PAYA LEBAR WAY</td>\n",
       "      <td>10 TO 12</td>\n",
       "      <td>67.0</td>\n",
       "      <td>IMPROVED</td>\n",
       "      <td>1972</td>\n",
       "      <td>328000.0</td>\n",
       "      <td>49 years 01 month</td>\n",
       "    </tr>\n",
       "    <tr>\n",
       "      <th>880839</th>\n",
       "      <td>2022-09</td>\n",
       "      <td>GEYLANG</td>\n",
       "      <td>3 ROOM</td>\n",
       "      <td>60</td>\n",
       "      <td>CIRCUIT RD</td>\n",
       "      <td>04 TO 06</td>\n",
       "      <td>56.0</td>\n",
       "      <td>STANDARD</td>\n",
       "      <td>1969</td>\n",
       "      <td>320000.0</td>\n",
       "      <td>45 years 05 months</td>\n",
       "    </tr>\n",
       "    <tr>\n",
       "      <th>880840</th>\n",
       "      <td>2022-09</td>\n",
       "      <td>CHOA CHU KANG</td>\n",
       "      <td>EXECUTIVE</td>\n",
       "      <td>134</td>\n",
       "      <td>TECK WHYE LANE</td>\n",
       "      <td>10 TO 12</td>\n",
       "      <td>144.0</td>\n",
       "      <td>APARTMENT</td>\n",
       "      <td>1993</td>\n",
       "      <td>738000.0</td>\n",
       "      <td>69 years 10 months</td>\n",
       "    </tr>\n",
       "    <tr>\n",
       "      <th>880841</th>\n",
       "      <td>2022-09</td>\n",
       "      <td>CHOA CHU KANG</td>\n",
       "      <td>5 ROOM</td>\n",
       "      <td>453</td>\n",
       "      <td>CHOA CHU KANG AVE 4</td>\n",
       "      <td>07 TO 09</td>\n",
       "      <td>123.0</td>\n",
       "      <td>PREMIUM APARTMENT</td>\n",
       "      <td>2000</td>\n",
       "      <td>525000.0</td>\n",
       "      <td>76 years 06 months</td>\n",
       "    </tr>\n",
       "    <tr>\n",
       "      <th>880842</th>\n",
       "      <td>2022-09</td>\n",
       "      <td>CHOA CHU KANG</td>\n",
       "      <td>4 ROOM</td>\n",
       "      <td>5</td>\n",
       "      <td>TECK WHYE AVE</td>\n",
       "      <td>04 TO 06</td>\n",
       "      <td>104.0</td>\n",
       "      <td>MODEL A</td>\n",
       "      <td>1984</td>\n",
       "      <td>451000.0</td>\n",
       "      <td>60 years 08 months</td>\n",
       "    </tr>\n",
       "    <tr>\n",
       "      <th>880843</th>\n",
       "      <td>2022-09</td>\n",
       "      <td>CHOA CHU KANG</td>\n",
       "      <td>4 ROOM</td>\n",
       "      <td>816B</td>\n",
       "      <td>KEAT HONG LINK</td>\n",
       "      <td>13 TO 15</td>\n",
       "      <td>92.0</td>\n",
       "      <td>MODEL A</td>\n",
       "      <td>2017</td>\n",
       "      <td>565000.0</td>\n",
       "      <td>94 years 01 month</td>\n",
       "    </tr>\n",
       "    <tr>\n",
       "      <th>880844</th>\n",
       "      <td>2022-09</td>\n",
       "      <td>CHOA CHU KANG</td>\n",
       "      <td>4 ROOM</td>\n",
       "      <td>691A</td>\n",
       "      <td>CHOA CHU KANG CRES</td>\n",
       "      <td>16 TO 18</td>\n",
       "      <td>91.0</td>\n",
       "      <td>MODEL A</td>\n",
       "      <td>2003</td>\n",
       "      <td>465000.0</td>\n",
       "      <td>79 years 09 months</td>\n",
       "    </tr>\n",
       "    <tr>\n",
       "      <th>880845</th>\n",
       "      <td>2022-09</td>\n",
       "      <td>CHOA CHU KANG</td>\n",
       "      <td>4 ROOM</td>\n",
       "      <td>684D</td>\n",
       "      <td>CHOA CHU KANG CRES</td>\n",
       "      <td>13 TO 15</td>\n",
       "      <td>90.0</td>\n",
       "      <td>MODEL A</td>\n",
       "      <td>2002</td>\n",
       "      <td>460000.0</td>\n",
       "      <td>79 years 01 month</td>\n",
       "    </tr>\n",
       "    <tr>\n",
       "      <th>880846</th>\n",
       "      <td>2022-09</td>\n",
       "      <td>CHOA CHU KANG</td>\n",
       "      <td>4 ROOM</td>\n",
       "      <td>487C</td>\n",
       "      <td>CHOA CHU KANG AVE 5</td>\n",
       "      <td>13 TO 15</td>\n",
       "      <td>93.0</td>\n",
       "      <td>MODEL A</td>\n",
       "      <td>2016</td>\n",
       "      <td>520000.0</td>\n",
       "      <td>92 years 10 months</td>\n",
       "    </tr>\n",
       "    <tr>\n",
       "      <th>880847</th>\n",
       "      <td>2022-09</td>\n",
       "      <td>YISHUN</td>\n",
       "      <td>5 ROOM</td>\n",
       "      <td>677C</td>\n",
       "      <td>YISHUN RING RD</td>\n",
       "      <td>04 TO 06</td>\n",
       "      <td>113.0</td>\n",
       "      <td>IMPROVED</td>\n",
       "      <td>2018</td>\n",
       "      <td>655000.0</td>\n",
       "      <td>95 years 02 months</td>\n",
       "    </tr>\n",
       "  </tbody>\n",
       "</table>\n",
       "</div>"
      ],
      "text/plain": [
       "          month           town  flat_type block          street_name  \\\n",
       "880838  2022-09        GEYLANG     3 ROOM    91       PAYA LEBAR WAY   \n",
       "880839  2022-09        GEYLANG     3 ROOM    60           CIRCUIT RD   \n",
       "880840  2022-09  CHOA CHU KANG  EXECUTIVE   134       TECK WHYE LANE   \n",
       "880841  2022-09  CHOA CHU KANG     5 ROOM   453  CHOA CHU KANG AVE 4   \n",
       "880842  2022-09  CHOA CHU KANG     4 ROOM     5        TECK WHYE AVE   \n",
       "880843  2022-09  CHOA CHU KANG     4 ROOM  816B       KEAT HONG LINK   \n",
       "880844  2022-09  CHOA CHU KANG     4 ROOM  691A   CHOA CHU KANG CRES   \n",
       "880845  2022-09  CHOA CHU KANG     4 ROOM  684D   CHOA CHU KANG CRES   \n",
       "880846  2022-09  CHOA CHU KANG     4 ROOM  487C  CHOA CHU KANG AVE 5   \n",
       "880847  2022-09         YISHUN     5 ROOM  677C       YISHUN RING RD   \n",
       "\n",
       "       storey_range  floor_area_sqm         flat_model  lease_commence_date  \\\n",
       "880838     10 TO 12            67.0           IMPROVED                 1972   \n",
       "880839     04 TO 06            56.0           STANDARD                 1969   \n",
       "880840     10 TO 12           144.0          APARTMENT                 1993   \n",
       "880841     07 TO 09           123.0  PREMIUM APARTMENT                 2000   \n",
       "880842     04 TO 06           104.0            MODEL A                 1984   \n",
       "880843     13 TO 15            92.0            MODEL A                 2017   \n",
       "880844     16 TO 18            91.0            MODEL A                 2003   \n",
       "880845     13 TO 15            90.0            MODEL A                 2002   \n",
       "880846     13 TO 15            93.0            MODEL A                 2016   \n",
       "880847     04 TO 06           113.0           IMPROVED                 2018   \n",
       "\n",
       "        resale_price     remaining_lease  \n",
       "880838      328000.0   49 years 01 month  \n",
       "880839      320000.0  45 years 05 months  \n",
       "880840      738000.0  69 years 10 months  \n",
       "880841      525000.0  76 years 06 months  \n",
       "880842      451000.0  60 years 08 months  \n",
       "880843      565000.0   94 years 01 month  \n",
       "880844      465000.0  79 years 09 months  \n",
       "880845      460000.0   79 years 01 month  \n",
       "880846      520000.0  92 years 10 months  \n",
       "880847      655000.0  95 years 02 months  "
      ]
     },
     "execution_count": 4,
     "metadata": {},
     "output_type": "execute_result"
    }
   ],
   "source": [
    "df_combined.sort_values(by=\"month\", ascending=True, inplace=True)\n",
    "df_combined.reset_index(drop=True, inplace=True)\n",
    "df_combined[\"flat_model\"] = df_combined[\"flat_model\"].str.upper()\n",
    "df_combined.tail(10)"
   ]
  },
  {
   "cell_type": "code",
   "execution_count": 5,
   "metadata": {},
   "outputs": [],
   "source": [
    "df_combined.to_csv(os.path.join(PATH, \"resale_flat_prices_all.csv\"), index=False)"
   ]
  },
  {
   "cell_type": "markdown",
   "metadata": {},
   "source": [
    "## Exploratory Data Analysis"
   ]
  },
  {
   "cell_type": "markdown",
   "metadata": {},
   "source": [
    "We first use `.describe()` and `.corr()` on `df_combined` to do some very preliminary analysis."
   ]
  },
  {
   "cell_type": "code",
   "execution_count": 9,
   "metadata": {},
   "outputs": [
    {
     "data": {
      "text/html": [
       "<div>\n",
       "<style scoped>\n",
       "    .dataframe tbody tr th:only-of-type {\n",
       "        vertical-align: middle;\n",
       "    }\n",
       "\n",
       "    .dataframe tbody tr th {\n",
       "        vertical-align: top;\n",
       "    }\n",
       "\n",
       "    .dataframe thead th {\n",
       "        text-align: right;\n",
       "    }\n",
       "</style>\n",
       "<table border=\"1\" class=\"dataframe\">\n",
       "  <thead>\n",
       "    <tr style=\"text-align: right;\">\n",
       "      <th></th>\n",
       "      <th>floor_area_sqm</th>\n",
       "      <th>lease_commence_date</th>\n",
       "      <th>resale_price</th>\n",
       "    </tr>\n",
       "  </thead>\n",
       "  <tbody>\n",
       "    <tr>\n",
       "      <th>count</th>\n",
       "      <td>880848.000000</td>\n",
       "      <td>880848.000000</td>\n",
       "      <td>8.808480e+05</td>\n",
       "    </tr>\n",
       "    <tr>\n",
       "      <th>mean</th>\n",
       "      <td>95.706267</td>\n",
       "      <td>1987.764496</td>\n",
       "      <td>3.073677e+05</td>\n",
       "    </tr>\n",
       "    <tr>\n",
       "      <th>std</th>\n",
       "      <td>25.931028</td>\n",
       "      <td>10.124900</td>\n",
       "      <td>1.592593e+05</td>\n",
       "    </tr>\n",
       "    <tr>\n",
       "      <th>min</th>\n",
       "      <td>28.000000</td>\n",
       "      <td>1966.000000</td>\n",
       "      <td>5.000000e+03</td>\n",
       "    </tr>\n",
       "    <tr>\n",
       "      <th>25%</th>\n",
       "      <td>73.000000</td>\n",
       "      <td>1980.000000</td>\n",
       "      <td>1.880000e+05</td>\n",
       "    </tr>\n",
       "    <tr>\n",
       "      <th>50%</th>\n",
       "      <td>93.000000</td>\n",
       "      <td>1986.000000</td>\n",
       "      <td>2.860000e+05</td>\n",
       "    </tr>\n",
       "    <tr>\n",
       "      <th>75%</th>\n",
       "      <td>113.000000</td>\n",
       "      <td>1995.000000</td>\n",
       "      <td>4.000000e+05</td>\n",
       "    </tr>\n",
       "    <tr>\n",
       "      <th>max</th>\n",
       "      <td>307.000000</td>\n",
       "      <td>2019.000000</td>\n",
       "      <td>1.418000e+06</td>\n",
       "    </tr>\n",
       "  </tbody>\n",
       "</table>\n",
       "</div>"
      ],
      "text/plain": [
       "       floor_area_sqm  lease_commence_date  resale_price\n",
       "count   880848.000000        880848.000000  8.808480e+05\n",
       "mean        95.706267          1987.764496  3.073677e+05\n",
       "std         25.931028            10.124900  1.592593e+05\n",
       "min         28.000000          1966.000000  5.000000e+03\n",
       "25%         73.000000          1980.000000  1.880000e+05\n",
       "50%         93.000000          1986.000000  2.860000e+05\n",
       "75%        113.000000          1995.000000  4.000000e+05\n",
       "max        307.000000          2019.000000  1.418000e+06"
      ]
     },
     "execution_count": 9,
     "metadata": {},
     "output_type": "execute_result"
    }
   ],
   "source": [
    "df_combined.describe()"
   ]
  },
  {
   "cell_type": "code",
   "execution_count": 10,
   "metadata": {},
   "outputs": [
    {
     "data": {
      "text/html": [
       "<div>\n",
       "<style scoped>\n",
       "    .dataframe tbody tr th:only-of-type {\n",
       "        vertical-align: middle;\n",
       "    }\n",
       "\n",
       "    .dataframe tbody tr th {\n",
       "        vertical-align: top;\n",
       "    }\n",
       "\n",
       "    .dataframe thead th {\n",
       "        text-align: right;\n",
       "    }\n",
       "</style>\n",
       "<table border=\"1\" class=\"dataframe\">\n",
       "  <thead>\n",
       "    <tr style=\"text-align: right;\">\n",
       "      <th></th>\n",
       "      <th>floor_area_sqm</th>\n",
       "      <th>lease_commence_date</th>\n",
       "      <th>resale_price</th>\n",
       "    </tr>\n",
       "  </thead>\n",
       "  <tbody>\n",
       "    <tr>\n",
       "      <th>floor_area_sqm</th>\n",
       "      <td>1.000000</td>\n",
       "      <td>0.422305</td>\n",
       "      <td>0.595527</td>\n",
       "    </tr>\n",
       "    <tr>\n",
       "      <th>lease_commence_date</th>\n",
       "      <td>0.422305</td>\n",
       "      <td>1.000000</td>\n",
       "      <td>0.522073</td>\n",
       "    </tr>\n",
       "    <tr>\n",
       "      <th>resale_price</th>\n",
       "      <td>0.595527</td>\n",
       "      <td>0.522073</td>\n",
       "      <td>1.000000</td>\n",
       "    </tr>\n",
       "  </tbody>\n",
       "</table>\n",
       "</div>"
      ],
      "text/plain": [
       "                     floor_area_sqm  lease_commence_date  resale_price\n",
       "floor_area_sqm             1.000000             0.422305      0.595527\n",
       "lease_commence_date        0.422305             1.000000      0.522073\n",
       "resale_price               0.595527             0.522073      1.000000"
      ]
     },
     "execution_count": 10,
     "metadata": {},
     "output_type": "execute_result"
    }
   ],
   "source": [
    "df_combined.corr()"
   ]
  },
  {
   "cell_type": "markdown",
   "metadata": {},
   "source": [
    "In this section, we will plot histograms categorical feature values to determine which of them have smaller counts. We will then categorise said features that have small counts as `other`.\n",
    "The yellowish-orange lines signify the boundaries that we have drawn to do the above preprocessing step."
   ]
  },
  {
   "cell_type": "code",
   "execution_count": 16,
   "metadata": {},
   "outputs": [],
   "source": [
    "df_combined[\"flat_model\"].value_counts().plot(kind=\"barh\", grid=True, title=\"Counts of different models of flats\",\n",
    "                                              ylabel=\"Flat Model\", figsize=(10, 6))\n",
    "plt.axvline(9000, alpha=0.5, c=\"orange\", label=\"Count = 9000\")\n",
    "plt.legend()\n",
    "plt.savefig(os.path.join(PATH, \"flat_model.png\"), facecolor=\"white\", pad_inches=0.3, bbox_inches=\"tight\")\n",
    "plt.clf()"
   ]
  },
  {
   "cell_type": "code",
   "execution_count": 17,
   "metadata": {},
   "outputs": [],
   "source": [
    "df_combined[\"town\"].value_counts().plot(kind=\"barh\", grid=True, title=\"Counts of different towns\",\n",
    "                                              ylabel=\"Towns\", figsize=(8, 10))\n",
    "plt.axvline(12000, alpha=0.5, c=\"orange\", label=\"Count = 12000\")\n",
    "plt.legend()\n",
    "plt.savefig(os.path.join(PATH, \"town.png\"), facecolor=\"white\", pad_inches=0.3, bbox_inches=\"tight\")\n",
    "plt.clf()"
   ]
  },
  {
   "cell_type": "code",
   "execution_count": 18,
   "metadata": {},
   "outputs": [],
   "source": [
    "df_combined[\"flat_type\"].value_counts().plot(kind=\"barh\", grid=True, title=\"Counts of flat types\",\n",
    "                                              ylabel=\"Flat Type\", figsize=(8, 5))\n",
    "plt.axvline(50000, alpha=0.5, c=\"orange\", label=\"Count = 50000\")\n",
    "plt.legend()\n",
    "plt.savefig(os.path.join(PATH, \"flat_type.png\"), facecolor=\"white\", pad_inches=0.3, bbox_inches=\"tight\")\n",
    "plt.clf()"
   ]
  },
  {
   "cell_type": "markdown",
   "metadata": {},
   "source": [
    "In the next step, we will use `pandas_profiling` to automate our standard exploratory data analysis processes."
   ]
  },
  {
   "cell_type": "code",
   "execution_count": 14,
   "metadata": {},
   "outputs": [],
   "source": [
    "profile = pandas_profiling.ProfileReport(df_combined, title=\"Report on df_combined\")"
   ]
  },
  {
   "cell_type": "code",
   "execution_count": 15,
   "metadata": {},
   "outputs": [
    {
     "name": "stderr",
     "output_type": "stream",
     "text": [
      "Summarize dataset:  64%|██████▎   | 14/22 [00:04<00:01,  6.69it/s, Calculate kendall correlation]       /Library/Frameworks/Python.framework/Versions/3.10/lib/python3.10/site-packages/scipy/stats/_stats_py.py:4868: RuntimeWarning: overflow encountered in long_scalars\n",
      "  (2 * xtie * ytie) / m + x0 * y0 / (9 * m * (size - 2)))\n",
      "Summarize dataset: 100%|██████████| 34/34 [00:13<00:00,  2.54it/s, Completed]                                       \n",
      "Generate report structure: 100%|██████████| 1/1 [00:01<00:00,  1.04s/it]\n",
      "Render HTML: 100%|██████████| 1/1 [00:00<00:00,  3.08it/s]\n",
      "Export report to file: 100%|██████████| 1/1 [00:00<00:00, 569.49it/s]\n"
     ]
    }
   ],
   "source": [
    "profile.to_file(os.path.join(PATH, \"df_combined_report.html\"))"
   ]
  },
  {
   "cell_type": "code",
   "execution_count": 14,
   "metadata": {},
   "outputs": [
    {
     "name": "stderr",
     "output_type": "stream",
     "text": [
      "Summarize dataset:  78%|███████▊  | 28/36 [00:07<00:02,  2.84it/s, Calculate kendall correlation]            /Library/Frameworks/Python.framework/Versions/3.10/lib/python3.10/site-packages/scipy/stats/_stats_py.py:4868: RuntimeWarning: overflow encountered in long_scalars\n",
      "  (2 * xtie * ytie) / m + x0 * y0 / (9 * m * (size - 2)))\n",
      "Summarize dataset: 100%|██████████| 438/438 [01:53<00:00,  3.87it/s, Completed]                                               \n",
      "Generate report structure: 100%|██████████| 1/1 [00:03<00:00,  3.01s/it]\n",
      "Render HTML: 100%|██████████| 1/1 [00:04<00:00,  4.30s/it]\n",
      "/Library/Frameworks/Python.framework/Versions/3.10/lib/python3.10/site-packages/pandas_profiling/profile_report.py:262: UserWarning: Extension .pdf not supported. For now we assume .html was intended. To remove this warning, please use .html or .json.\n",
      "  warnings.warn(\n",
      "Export report to file: 100%|██████████| 1/1 [00:00<00:00, 70.85it/s]\n"
     ]
    }
   ],
   "source": [
    "PROCESSED_PATH = os.path.join(\"./data_processed\", \"resale_flat_prices\")\n",
    "df_new = pd.read_csv(os.path.join(PROCESSED_PATH, \"engineered_data.csv\"))\n",
    "new_profile = pandas_profiling.ProfileReport(df_new, title=\"Report on df_new\")\n",
    "new_profile.to_file(os.path.join(PROCESSED_PATH, \"df_new_report.pdf\"))"
   ]
  },
  {
   "cell_type": "code",
   "execution_count": null,
   "metadata": {},
   "outputs": [],
   "source": []
  }
 ],
 "metadata": {
  "kernelspec": {
   "display_name": "Python 3.10.6 64-bit",
   "language": "python",
   "name": "python3"
  },
  "language_info": {
   "codemirror_mode": {
    "name": "ipython",
    "version": 3
   },
   "file_extension": ".py",
   "mimetype": "text/x-python",
   "name": "python",
   "nbconvert_exporter": "python",
   "pygments_lexer": "ipython3",
   "version": "3.10.6"
  },
  "orig_nbformat": 4,
  "vscode": {
   "interpreter": {
    "hash": "aee8b7b246df8f9039afb4144a1f6fd8d2ca17a180786b69acc140d282b71a49"
   }
  }
 },
 "nbformat": 4,
 "nbformat_minor": 2
}
