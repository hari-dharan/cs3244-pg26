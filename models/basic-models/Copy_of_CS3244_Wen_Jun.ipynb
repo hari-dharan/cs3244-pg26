{
  "cells": [
    {
      "cell_type": "code",
      "execution_count": 2,
      "metadata": {
        "colab": {
          "base_uri": "https://localhost:8080/"
        },
        "id": "Qyhy6cJ7Zipl",
        "outputId": "c52de46d-f9ac-4a16-db7d-3e81d65da615"
      },
      "outputs": [],
      "source": [
        "import pandas as pd\n",
        "import numpy as np\n",
        "from sklearn.linear_model import LinearRegression\n",
        "from sklearn.preprocessing import PolynomialFeatures\n",
        "from sklearn.metrics import mean_squared_error, r2_score, make_scorer, mean_absolute_error, mean_absolute_percentage_error, median_absolute_error\n",
        "import matplotlib.pyplot as plt\n",
        "import pickle\n",
        "from copy import deepcopy\n",
        "%matplotlib inline\n",
        "import os"
      ]
    },
    {
      "cell_type": "code",
      "execution_count": null,
      "metadata": {
        "id": "aFFS2ZsWZpoN"
      },
      "outputs": [],
      "source": [
        "path = \"/content/drive/MyDrive/cs3244-pg26/data_processed/resale_flat_prices\"\n",
        "df = pd.read_csv(os.path.join(path, \"engineered_data.csv\"))"
      ]
    },
    {
      "cell_type": "code",
      "execution_count": 4,
      "metadata": {},
      "outputs": [
        {
          "data": {
            "text/html": [
              "<div>\n",
              "<style scoped>\n",
              "    .dataframe tbody tr th:only-of-type {\n",
              "        vertical-align: middle;\n",
              "    }\n",
              "\n",
              "    .dataframe tbody tr th {\n",
              "        vertical-align: top;\n",
              "    }\n",
              "\n",
              "    .dataframe thead th {\n",
              "        text-align: right;\n",
              "    }\n",
              "</style>\n",
              "<table border=\"1\" class=\"dataframe\">\n",
              "  <thead>\n",
              "    <tr style=\"text-align: right;\">\n",
              "      <th></th>\n",
              "      <th>id</th>\n",
              "      <th>town</th>\n",
              "      <th>flat_type</th>\n",
              "      <th>flat_model</th>\n",
              "      <th>sale_date</th>\n",
              "      <th>floor</th>\n",
              "      <th>age</th>\n",
              "      <th>relative_tenure</th>\n",
              "      <th>floor_area</th>\n",
              "      <th>psm</th>\n",
              "      <th>...</th>\n",
              "      <th>nearest_post_offices</th>\n",
              "      <th>nearest_bus_stops</th>\n",
              "      <th>nearest_pharmacies</th>\n",
              "      <th>nearest_primary_schools</th>\n",
              "      <th>nearest_parks</th>\n",
              "      <th>nearest_trains</th>\n",
              "      <th>sale_month</th>\n",
              "      <th>cpi</th>\n",
              "      <th>cpi_psm</th>\n",
              "      <th>avg_sora</th>\n",
              "    </tr>\n",
              "  </thead>\n",
              "  <tbody>\n",
              "    <tr>\n",
              "      <th>0</th>\n",
              "      <td>1</td>\n",
              "      <td>JURONG_WEST</td>\n",
              "      <td>3_ROOM</td>\n",
              "      <td>IMPROVED</td>\n",
              "      <td>1990-01-01</td>\n",
              "      <td>5.0</td>\n",
              "      <td>16</td>\n",
              "      <td>0.899953</td>\n",
              "      <td>70.0</td>\n",
              "      <td>334.285714</td>\n",
              "      <td>...</td>\n",
              "      <td>0.798752</td>\n",
              "      <td>0.195397</td>\n",
              "      <td>0.761661</td>\n",
              "      <td>0.541789</td>\n",
              "      <td>0.947906</td>\n",
              "      <td>0.904104</td>\n",
              "      <td>1</td>\n",
              "      <td>61.9</td>\n",
              "      <td>595.125779</td>\n",
              "      <td>NaN</td>\n",
              "    </tr>\n",
              "    <tr>\n",
              "      <th>1</th>\n",
              "      <td>2</td>\n",
              "      <td>OTHER</td>\n",
              "      <td>5_ROOM</td>\n",
              "      <td>STANDARD</td>\n",
              "      <td>1990-01-01</td>\n",
              "      <td>5.0</td>\n",
              "      <td>15</td>\n",
              "      <td>0.902280</td>\n",
              "      <td>120.0</td>\n",
              "      <td>916.666667</td>\n",
              "      <td>...</td>\n",
              "      <td>3.042559</td>\n",
              "      <td>0.090376</td>\n",
              "      <td>1.133326</td>\n",
              "      <td>0.159056</td>\n",
              "      <td>0.330270</td>\n",
              "      <td>1.954674</td>\n",
              "      <td>1</td>\n",
              "      <td>61.9</td>\n",
              "      <td>1631.933226</td>\n",
              "      <td>NaN</td>\n",
              "    </tr>\n",
              "    <tr>\n",
              "      <th>2</th>\n",
              "      <td>3</td>\n",
              "      <td>BUKIT_MERAH</td>\n",
              "      <td>3_ROOM</td>\n",
              "      <td>IMPROVED</td>\n",
              "      <td>1990-01-01</td>\n",
              "      <td>5.0</td>\n",
              "      <td>15</td>\n",
              "      <td>0.902280</td>\n",
              "      <td>63.0</td>\n",
              "      <td>722.222222</td>\n",
              "      <td>...</td>\n",
              "      <td>1.148847</td>\n",
              "      <td>0.446105</td>\n",
              "      <td>0.850333</td>\n",
              "      <td>0.943485</td>\n",
              "      <td>0.737703</td>\n",
              "      <td>0.932695</td>\n",
              "      <td>1</td>\n",
              "      <td>61.9</td>\n",
              "      <td>1285.765572</td>\n",
              "      <td>NaN</td>\n",
              "    </tr>\n",
              "    <tr>\n",
              "      <th>3</th>\n",
              "      <td>4</td>\n",
              "      <td>BUKIT_MERAH</td>\n",
              "      <td>OTHER</td>\n",
              "      <td>IMPROVED</td>\n",
              "      <td>1990-01-01</td>\n",
              "      <td>8.0</td>\n",
              "      <td>21</td>\n",
              "      <td>0.887322</td>\n",
              "      <td>29.0</td>\n",
              "      <td>251.724138</td>\n",
              "      <td>...</td>\n",
              "      <td>1.294327</td>\n",
              "      <td>1.620819</td>\n",
              "      <td>0.431442</td>\n",
              "      <td>0.691163</td>\n",
              "      <td>0.311404</td>\n",
              "      <td>0.448964</td>\n",
              "      <td>1</td>\n",
              "      <td>61.9</td>\n",
              "      <td>448.142165</td>\n",
              "      <td>NaN</td>\n",
              "    </tr>\n",
              "    <tr>\n",
              "      <th>4</th>\n",
              "      <td>5</td>\n",
              "      <td>BUKIT_MERAH</td>\n",
              "      <td>OTHER</td>\n",
              "      <td>IMPROVED</td>\n",
              "      <td>1990-01-01</td>\n",
              "      <td>11.0</td>\n",
              "      <td>21</td>\n",
              "      <td>0.887322</td>\n",
              "      <td>29.0</td>\n",
              "      <td>251.724138</td>\n",
              "      <td>...</td>\n",
              "      <td>1.294327</td>\n",
              "      <td>1.620819</td>\n",
              "      <td>0.431442</td>\n",
              "      <td>0.691163</td>\n",
              "      <td>0.311404</td>\n",
              "      <td>0.448964</td>\n",
              "      <td>1</td>\n",
              "      <td>61.9</td>\n",
              "      <td>448.142165</td>\n",
              "      <td>NaN</td>\n",
              "    </tr>\n",
              "  </tbody>\n",
              "</table>\n",
              "<p>5 rows × 29 columns</p>\n",
              "</div>"
            ],
            "text/plain": [
              "   id         town flat_type flat_model   sale_date  floor  age  \\\n",
              "0   1  JURONG_WEST    3_ROOM   IMPROVED  1990-01-01    5.0   16   \n",
              "1   2        OTHER    5_ROOM   STANDARD  1990-01-01    5.0   15   \n",
              "2   3  BUKIT_MERAH    3_ROOM   IMPROVED  1990-01-01    5.0   15   \n",
              "3   4  BUKIT_MERAH     OTHER   IMPROVED  1990-01-01    8.0   21   \n",
              "4   5  BUKIT_MERAH     OTHER   IMPROVED  1990-01-01   11.0   21   \n",
              "\n",
              "   relative_tenure  floor_area         psm  ... nearest_post_offices  \\\n",
              "0         0.899953        70.0  334.285714  ...             0.798752   \n",
              "1         0.902280       120.0  916.666667  ...             3.042559   \n",
              "2         0.902280        63.0  722.222222  ...             1.148847   \n",
              "3         0.887322        29.0  251.724138  ...             1.294327   \n",
              "4         0.887322        29.0  251.724138  ...             1.294327   \n",
              "\n",
              "   nearest_bus_stops  nearest_pharmacies  nearest_primary_schools  \\\n",
              "0           0.195397            0.761661                 0.541789   \n",
              "1           0.090376            1.133326                 0.159056   \n",
              "2           0.446105            0.850333                 0.943485   \n",
              "3           1.620819            0.431442                 0.691163   \n",
              "4           1.620819            0.431442                 0.691163   \n",
              "\n",
              "   nearest_parks  nearest_trains  sale_month   cpi      cpi_psm  avg_sora  \n",
              "0       0.947906        0.904104           1  61.9   595.125779       NaN  \n",
              "1       0.330270        1.954674           1  61.9  1631.933226       NaN  \n",
              "2       0.737703        0.932695           1  61.9  1285.765572       NaN  \n",
              "3       0.311404        0.448964           1  61.9   448.142165       NaN  \n",
              "4       0.311404        0.448964           1  61.9   448.142165       NaN  \n",
              "\n",
              "[5 rows x 29 columns]"
            ]
          },
          "metadata": {},
          "output_type": "display_data"
        }
      ],
      "source": [
        "df = pd.read_csv(\"../../data_processed/resale_flat_prices/engineered_data.csv\")\n",
        "display(df.head(5))"
      ]
    },
    {
      "cell_type": "code",
      "execution_count": 5,
      "metadata": {
        "colab": {
          "base_uri": "https://localhost:8080/",
          "height": 576
        },
        "id": "gkYRk4tHGych",
        "outputId": "7c39b67e-c57c-4015-f2a1-be99cd0851f7"
      },
      "outputs": [
        {
          "name": "stdout",
          "output_type": "stream",
          "text": [
            "(865827, 58) \n",
            " Index(['floor', 'age', 'relative_tenure', 'floor_area', 'nearest_atm',\n",
            "       'nearest_libraries', 'nearest_hawkers', 'nearest_stores',\n",
            "       'nearest_post_offices', 'nearest_bus_stops', 'nearest_pharmacies',\n",
            "       'nearest_primary_schools', 'nearest_parks', 'nearest_trains',\n",
            "       'sale_month', 'cpi', 'cpi_psm', 'avg_sora', 'is_imputted_sora',\n",
            "       'flat_type_3_ROOM', 'flat_type_4_ROOM', 'flat_type_5_ROOM',\n",
            "       'flat_type_EXECUTIVE', 'flat_type_OTHER', 'flat_model_APARTMENT',\n",
            "       'flat_model_IMPROVED', 'flat_model_MAISONETTE', 'flat_model_MODEL_A',\n",
            "       'flat_model_MODEL_A2', 'flat_model_NEW_GENERATION', 'flat_model_OTHER',\n",
            "       'flat_model_PREMIUM_APARTMENT', 'flat_model_SIMPLIFIED',\n",
            "       'flat_model_STANDARD', 'town_ANG_MO_KIO', 'town_BEDOK', 'town_BISHAN',\n",
            "       'town_BUKIT_BATOK', 'town_BUKIT_MERAH', 'town_BUKIT_PANJANG',\n",
            "       'town_CHOA_CHU_KANG', 'town_CLEMENTI', 'town_GEYLANG', 'town_HOUGANG',\n",
            "       'town_JURONG_EAST', 'town_JURONG_WEST', 'town_KALLANG/WHAMPOA',\n",
            "       'town_OTHER', 'town_PASIR_RIS', 'town_PUNGGOL', 'town_QUEENSTOWN',\n",
            "       'town_SEMBAWANG', 'town_SENGKANG', 'town_SERANGOON', 'town_TAMPINES',\n",
            "       'town_TOA_PAYOH', 'town_WOODLANDS', 'town_YISHUN'],\n",
            "      dtype='object')\n"
          ]
        },
        {
          "data": {
            "text/html": [
              "<div>\n",
              "<style scoped>\n",
              "    .dataframe tbody tr th:only-of-type {\n",
              "        vertical-align: middle;\n",
              "    }\n",
              "\n",
              "    .dataframe tbody tr th {\n",
              "        vertical-align: top;\n",
              "    }\n",
              "\n",
              "    .dataframe thead th {\n",
              "        text-align: right;\n",
              "    }\n",
              "</style>\n",
              "<table border=\"1\" class=\"dataframe\">\n",
              "  <thead>\n",
              "    <tr style=\"text-align: right;\">\n",
              "      <th></th>\n",
              "      <th>floor</th>\n",
              "      <th>age</th>\n",
              "      <th>relative_tenure</th>\n",
              "      <th>floor_area</th>\n",
              "      <th>nearest_atm</th>\n",
              "      <th>nearest_libraries</th>\n",
              "      <th>nearest_hawkers</th>\n",
              "      <th>nearest_stores</th>\n",
              "      <th>nearest_post_offices</th>\n",
              "      <th>nearest_bus_stops</th>\n",
              "      <th>...</th>\n",
              "      <th>town_PASIR_RIS</th>\n",
              "      <th>town_PUNGGOL</th>\n",
              "      <th>town_QUEENSTOWN</th>\n",
              "      <th>town_SEMBAWANG</th>\n",
              "      <th>town_SENGKANG</th>\n",
              "      <th>town_SERANGOON</th>\n",
              "      <th>town_TAMPINES</th>\n",
              "      <th>town_TOA_PAYOH</th>\n",
              "      <th>town_WOODLANDS</th>\n",
              "      <th>town_YISHUN</th>\n",
              "    </tr>\n",
              "  </thead>\n",
              "  <tbody>\n",
              "    <tr>\n",
              "      <th>0</th>\n",
              "      <td>5.0</td>\n",
              "      <td>16</td>\n",
              "      <td>0.899953</td>\n",
              "      <td>70.0</td>\n",
              "      <td>0.521140</td>\n",
              "      <td>0.751719</td>\n",
              "      <td>0.576328</td>\n",
              "      <td>0.521140</td>\n",
              "      <td>0.798752</td>\n",
              "      <td>0.195397</td>\n",
              "      <td>...</td>\n",
              "      <td>0</td>\n",
              "      <td>0</td>\n",
              "      <td>0</td>\n",
              "      <td>0</td>\n",
              "      <td>0</td>\n",
              "      <td>0</td>\n",
              "      <td>0</td>\n",
              "      <td>0</td>\n",
              "      <td>0</td>\n",
              "      <td>0</td>\n",
              "    </tr>\n",
              "    <tr>\n",
              "      <th>1</th>\n",
              "      <td>5.0</td>\n",
              "      <td>15</td>\n",
              "      <td>0.902280</td>\n",
              "      <td>120.0</td>\n",
              "      <td>0.391706</td>\n",
              "      <td>0.930882</td>\n",
              "      <td>0.290215</td>\n",
              "      <td>0.368291</td>\n",
              "      <td>3.042559</td>\n",
              "      <td>0.090376</td>\n",
              "      <td>...</td>\n",
              "      <td>0</td>\n",
              "      <td>0</td>\n",
              "      <td>0</td>\n",
              "      <td>0</td>\n",
              "      <td>0</td>\n",
              "      <td>0</td>\n",
              "      <td>0</td>\n",
              "      <td>0</td>\n",
              "      <td>0</td>\n",
              "      <td>0</td>\n",
              "    </tr>\n",
              "    <tr>\n",
              "      <th>2</th>\n",
              "      <td>5.0</td>\n",
              "      <td>15</td>\n",
              "      <td>0.902280</td>\n",
              "      <td>63.0</td>\n",
              "      <td>0.165177</td>\n",
              "      <td>1.399324</td>\n",
              "      <td>0.165177</td>\n",
              "      <td>0.047929</td>\n",
              "      <td>1.148847</td>\n",
              "      <td>0.446105</td>\n",
              "      <td>...</td>\n",
              "      <td>0</td>\n",
              "      <td>0</td>\n",
              "      <td>0</td>\n",
              "      <td>0</td>\n",
              "      <td>0</td>\n",
              "      <td>0</td>\n",
              "      <td>0</td>\n",
              "      <td>0</td>\n",
              "      <td>0</td>\n",
              "      <td>0</td>\n",
              "    </tr>\n",
              "  </tbody>\n",
              "</table>\n",
              "<p>3 rows × 58 columns</p>\n",
              "</div>"
            ],
            "text/plain": [
              "   floor  age  relative_tenure  floor_area  nearest_atm  nearest_libraries  \\\n",
              "0    5.0   16         0.899953        70.0     0.521140           0.751719   \n",
              "1    5.0   15         0.902280       120.0     0.391706           0.930882   \n",
              "2    5.0   15         0.902280        63.0     0.165177           1.399324   \n",
              "\n",
              "   nearest_hawkers  nearest_stores  nearest_post_offices  nearest_bus_stops  \\\n",
              "0         0.576328        0.521140              0.798752           0.195397   \n",
              "1         0.290215        0.368291              3.042559           0.090376   \n",
              "2         0.165177        0.047929              1.148847           0.446105   \n",
              "\n",
              "   ...  town_PASIR_RIS  town_PUNGGOL  town_QUEENSTOWN  town_SEMBAWANG  \\\n",
              "0  ...               0             0                0               0   \n",
              "1  ...               0             0                0               0   \n",
              "2  ...               0             0                0               0   \n",
              "\n",
              "   town_SENGKANG  town_SERANGOON  town_TAMPINES  town_TOA_PAYOH  \\\n",
              "0              0               0              0               0   \n",
              "1              0               0              0               0   \n",
              "2              0               0              0               0   \n",
              "\n",
              "   town_WOODLANDS  town_YISHUN  \n",
              "0               0            0  \n",
              "1               0            0  \n",
              "2               0            0  \n",
              "\n",
              "[3 rows x 58 columns]"
            ]
          },
          "metadata": {},
          "output_type": "display_data"
        }
      ],
      "source": [
        "from sklearn.impute import SimpleImputer\n",
        "\n",
        "df[\"is_imputted_sora\"] = np.where(df[\"avg_sora\"].isnull(), 1, 0)\n",
        "\n",
        "imp = SimpleImputer()\n",
        "df[\"avg_sora\"] = imp.fit_transform(df[\"avg_sora\"].to_numpy().reshape(-1, 1))\n",
        "\n",
        "df.drop(columns=[\"id\", \"sale_date\", \"address\", \"latitude_rad\", \"longitude_rad\", \"latitude\", \"longitude\", \"psm\"], inplace=True)\n",
        "\n",
        "df = pd.get_dummies(df, columns=[\"flat_type\", \"flat_model\", \"town\"], dummy_na = True, dtype=np.uint8)\n",
        "df.drop(columns=[\"town_nan\", \"flat_type_nan\", \"flat_model_nan\"], inplace=True)\n",
        "\n",
        "print(df.shape, '\\n', df.columns)\n",
        "display(df.head(3))"
      ]
    },
    {
      "cell_type": "code",
      "execution_count": 6,
      "metadata": {
        "colab": {
          "base_uri": "https://localhost:8080/"
        },
        "id": "BJMWlipuG1Rs",
        "outputId": "018743b0-2c7c-49e1-f839-503e9344e1a7"
      },
      "outputs": [
        {
          "name": "stdout",
          "output_type": "stream",
          "text": [
            "(767022, 57) (767022,)\n",
            "(98805, 57) (98805,)\n"
          ]
        }
      ],
      "source": [
        "lookback_years = 4\n",
        "latest_month = df.sale_month.max()\n",
        "test_months = list(range(latest_month - lookback_years * 12, latest_month + 1))\n",
        "train_months = list(range(1, latest_month - lookback_years * 12))\n",
        "\n",
        "df_train, df_test = deepcopy(df[df.sale_month.isin(train_months)]), deepcopy(df[df.sale_month.isin(test_months)])\n",
        "\n",
        "X_train, X_test, y_train, y_test = df_train.drop('cpi_psm', axis=1), df_test.drop('cpi_psm', axis=1), df_train.cpi_psm, df_test.cpi_psm\n",
        "\n",
        "print(X_train.shape, y_train.shape)\n",
        "print(X_test.shape, y_test.shape)"
      ]
    },
    {
      "cell_type": "code",
      "execution_count": 7,
      "metadata": {
        "id": "aXxQ9zF-HNsd"
      },
      "outputs": [],
      "source": [
        "def produce_metrics(y_test, y_pred):\n",
        "  mse = mean_squared_error(y_test, y_pred)\n",
        "  mae = mean_absolute_error(y_test, y_pred)\n",
        "  rtwo = r2_score(y_test, y_pred)\n",
        "  mape = mean_absolute_percentage_error(y_test, y_pred)\n",
        "  mdape = median_absolute_error(y_test, y_pred)/np.median(y_test)\n",
        "  return mse, mse**(0.5), mae, rtwo, mape, mdape"
      ]
    },
    {
      "cell_type": "code",
      "execution_count": null,
      "metadata": {
        "colab": {
          "base_uri": "https://localhost:8080/",
          "height": 310
        },
        "id": "Un-KiGEfHDCY",
        "outputId": "895692a5-6142-44db-f4e3-c0ad5c6ecfc9"
      },
      "outputs": [
        {
          "data": {
            "image/png": "[encoded data removed]",
            "text/plain": [
              "<Figure size 432x288 with 1 Axes>"
            ]
          },
          "metadata": {},
          "output_type": "display_data"
        }
      ],
      "source": [
        "#Linear regression\n",
        "model = LinearRegression()\n",
        "model.fit(X_train, y_train)\n",
        "\n",
        "#Linear regression score based on prediction\n",
        "y_pred = model.predict(X_test)\n",
        "model.score(X_test, y_test)\n",
        "plt.scatter(y_test,y_pred)\n",
        "plt.title(\"Predicted vs Actual CPI-adjusted Per-square-metre Prices\\n(Linear Regression)\")\n",
        "plt.xlabel(\"Actual\")\n",
        "plt.ylabel(\"Predicted\")\n",
        "plt.plot(np.linspace(0,13000,100),np.linspace(0,13000,100), \"-r\")\n",
        "plt.show()"
      ]
    },
    {
      "cell_type": "code",
      "execution_count": null,
      "metadata": {
        "colab": {
          "base_uri": "https://localhost:8080/"
        },
        "id": "v6YSBjeeHQBa",
        "outputId": "3dfaa054-4123-45b1-f3b4-3c6d4d414656"
      },
      "outputs": [
        {
          "name": "stdout",
          "output_type": "stream",
          "text": [
            "MSE: 1491429.943003844\n",
            "RMSE: 1221.241148587716\n",
            "MAE: 1058.5290378911714\n",
            "R2: 0.2522715011327191\n",
            "MAPE: 0.21898762901191487\n",
            "MdAPE: 0.2042421168737615\n"
          ]
        }
      ],
      "source": [
        "mse, rmse, mae, rtwo, mape, mdape = produce_metrics(y_test, y_pred)\n",
        "print(f\"MSE: {mse}\")\n",
        "print(f\"RMSE: {rmse}\")\n",
        "print(f\"MAE: {mae}\")\n",
        "print(f\"R2: {rtwo}\")\n",
        "print(f\"MAPE: {mape}\")\n",
        "print(f\"MdAPE: {mdape}\")"
      ]
    },
    {
      "cell_type": "code",
      "execution_count": 8,
      "metadata": {
        "id": "CCIx3o0GC21A"
      },
      "outputs": [],
      "source": [
        "# Using polynomial regression\n",
        "i = 2 #Degree of polynomial\n",
        "poly = PolynomialFeatures(degree = i)\n",
        "poly_X = poly.fit_transform(X_train)\n",
        "poly_X_test = poly.fit_transform(X_test)\n",
        "poly.fit(poly_X, y_train)\n",
        "model = LinearRegression()\n",
        "model = model.fit(poly_X, y_train)\n",
        "\n",
        "y_pred = model.predict(poly_X_test)\n",
        "plt.scatter(y_test,y_pred)\n",
        "plt.title(\"Polynomial degression of degree \" + str(i))\n",
        "plt.xlabel(\"Actual\")\n",
        "plt.ylabel(\"Predicted\")\n",
        "plt.plot(np.linspace(0,13000,100),np.linspace(0,13000,100), \"-r\")\n",
        "plt.show()"
      ]
    },
    {
      "cell_type": "code",
      "execution_count": null,
      "metadata": {},
      "outputs": [],
      "source": [
        "mse, rmse, mae, rtwo, mape, mdape = produce_metrics(y_test, y_pred)\n",
        "print(f\"MSE: {mse}\")\n",
        "print(f\"RMSE: {rmse}\")\n",
        "print(f\"MAE: {mae}\")\n",
        "print(f\"R2: {rtwo}\")\n",
        "print(f\"MAPE: {mape}\")\n",
        "print(f\"MdAPE: {mdape}\")"
      ]
    },
    {
      "cell_type": "code",
      "execution_count": null,
      "metadata": {
        "colab": {
          "background_save": true
        },
        "id": "uZYLwSXbltmt",
        "outputId": "95c9c9ec-52d3-4a80-8b26-b0235a8fe9b6"
      },
      "outputs": [
        {
          "data": {
            "image/png": "[encoded data removed]",
            "text/plain": [
              "<Figure size 432x288 with 1 Axes>"
            ]
          },
          "metadata": {},
          "output_type": "display_data"
        }
      ],
      "source": [
        "#Trying out random forest regressor\n",
        "from sklearn.ensemble import RandomForestRegressor\n",
        "model = RandomForestRegressor(n_estimators = 50)\n",
        "model = model.fit(X_train, y_train)\n",
        "\n",
        "#Predict the testing data\n",
        "y_pred = model.predict(X_test)\n",
        "plt.scatter(y_test,y_pred)\n",
        "plt.title(\"Predicted vs Actual CPI-adjusted Per-square metre Prcies\\n(Random Forest Regression)\")\n",
        "plt.plot(np.linspace(0,13000,100),np.linspace(0,13000,100), \"-r\")\n",
        "plt.xlabel(\"Actual\")\n",
        "plt.ylabel(\"Predicted\")\n",
        "plt.show()"
      ]
    },
    {
      "cell_type": "code",
      "execution_count": null,
      "metadata": {
        "colab": {
          "background_save": true
        },
        "id": "o3mVoIphIC4N",
        "outputId": "93de6a8f-45ee-4f93-dc0a-a1afd9ad7a91"
      },
      "outputs": [
        {
          "name": "stdout",
          "output_type": "stream",
          "text": [
            "MSE: 437635.175190885\n",
            "RMSE: 661.5400027140347\n",
            "MAE: 474.717994549444\n",
            "R2: 0.780591576471952\n",
            "MAPE: 0.08558147762790735\n",
            "MdAPE: 0.06968405815790558\n"
          ]
        }
      ],
      "source": [
        "mse, rmse, mae, rtwo, mape, mdape = produce_metrics(y_test, y_pred)\n",
        "print(f\"MSE: {mse}\")\n",
        "print(f\"RMSE: {rmse}\")\n",
        "print(f\"MAE: {mae}\")\n",
        "print(f\"R2: {rtwo}\")\n",
        "print(f\"MAPE: {mape}\")\n",
        "print(f\"MdAPE: {mdape}\")"
      ]
    },
    {
      "cell_type": "code",
      "execution_count": null,
      "metadata": {
        "colab": {
          "background_save": true
        },
        "id": "Kb8mx8mRqPzg",
        "outputId": "5b1e66f6-d277-4e1f-b552-e6036c8f8fb6"
      },
      "outputs": [
        {
          "data": {
            "image/png": "[encoded data removed]",
            "text/plain": [
              "<Figure size 432x288 with 1 Axes>"
            ]
          },
          "metadata": {},
          "output_type": "display_data"
        }
      ],
      "source": [
        "#Gradient boosting regression\n",
        "from sklearn.ensemble import GradientBoostingRegressor\n",
        "model = GradientBoostingRegressor(n_estimators = 100)\n",
        "model = model.fit(X_train, y_train)\n",
        "\n",
        "# generating predictions for the gradient boosting regressor\n",
        "y_pred = model.predict(X_test)\n",
        "plt.scatter(y_test,y_pred)\n",
        "plt.title(\"Predicted vs Actual CPI-adjusted Per-square metre Prcies\\n(Gradient Boosting Regression)\")\n",
        "plt.plot(np.linspace(0,13000,100),np.linspace(0,13000,100), \"-r\")\n",
        "plt.xlabel(\"Actual\")\n",
        "plt.ylabel(\"Predicted\")\n",
        "plt.show()"
      ]
    },
    {
      "cell_type": "code",
      "execution_count": null,
      "metadata": {
        "colab": {
          "background_save": true
        },
        "id": "-lwCk5piIM6I",
        "outputId": "f67f1b36-1bb5-4b19-84c9-49e19a627471"
      },
      "outputs": [
        {
          "name": "stdout",
          "output_type": "stream",
          "text": [
            "MSE: 768207.637402613\n",
            "RMSE: 876.4745503450816\n",
            "MAE: 642.4210206645373\n",
            "R2: 0.6148590510550347\n",
            "MAPE: 0.11563772720892623\n",
            "MdAPE: 0.09648523495342698\n"
          ]
        }
      ],
      "source": [
        "mse, rmse, mae, rtwo, mape, mdape = produce_metrics(y_test, y_pred)\n",
        "print(f\"MSE: {mse}\")\n",
        "print(f\"RMSE: {rmse}\")\n",
        "print(f\"MAE: {mae}\")\n",
        "print(f\"R2: {rtwo}\")\n",
        "print(f\"MAPE: {mape}\")\n",
        "print(f\"MdAPE: {mdape}\")"
      ]
    },
    {
      "cell_type": "code",
      "execution_count": null,
      "metadata": {
        "id": "7UKuQkWAIP-s"
      },
      "outputs": [],
      "source": [
        "from google.colab import runtime\n",
        "runtime.unassign()"
      ]
    },
    {
      "cell_type": "code",
      "execution_count": null,
      "metadata": {
        "id": "uDGD1hBZJqOm"
      },
      "outputs": [],
      "source": []
    }
  ],
  "metadata": {
    "accelerator": "GPU",
    "colab": {
      "collapsed_sections": [],
      "machine_shape": "hm",
      "provenance": []
    },
    "gpuClass": "standard",
    "kernelspec": {
      "display_name": "Python 3.10.6 64-bit",
      "language": "python",
      "name": "python3"
    },
    "language_info": {
      "codemirror_mode": {
        "name": "ipython",
        "version": 3
      },
      "file_extension": ".py",
      "mimetype": "text/x-python",
      "name": "python",
      "nbconvert_exporter": "python",
      "pygments_lexer": "ipython3",
      "version": "3.10.6"
    },
    "vscode": {
      "interpreter": {
        "hash": "aee8b7b246df8f9039afb4144a1f6fd8d2ca17a180786b69acc140d282b71a49"
      }
    }
  },
  "nbformat": 4,
  "nbformat_minor": 0
}
