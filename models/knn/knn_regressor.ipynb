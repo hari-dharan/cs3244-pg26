{
  "cells": [
    {
      "cell_type": "code",
      "execution_count": 21,
      "metadata": {
        "id": "EpUU4Qgsu2dE"
      },
      "outputs": [],
      "source": [
        "import math\n",
        "import pandas as pd\n",
        "import numpy as np\n",
        "import matplotlib.pyplot as plt\n",
        "from sklearn.metrics import mean_squared_error, r2_score, make_scorer, mean_absolute_error, mean_absolute_percentage_error, median_absolute_error\n",
        "from sklearn.neighbors import KNeighborsRegressor\n",
        "from sklearn.model_selection import GridSearchCV\n",
        "from sklearn.impute import SimpleImputer\n",
        "import os\n",
        "import pickle\n",
        "from copy import deepcopy"
      ]
    },
    {
      "cell_type": "code",
      "execution_count": 14,
      "metadata": {},
      "outputs": [],
      "source": [
        "def process_df(df):\n",
        "  new_df = deepcopy(df)\n",
        "  new_df[\"period_index\"] = pd.PeriodIndex(df.sale_date, freq=\"Q\")\n",
        "  new_df.drop(columns=[\"id\", \"sale_date\", \"address\", \"latitude_rad\", \"longitude_rad\", \"latitude\", \"longitude\", \"psm\"], inplace=True)\n",
        "  new_df = pd.get_dummies(new_df, columns=[\"flat_type\", \"flat_model\", \"town\"], dummy_na = True, dtype=np.uint8)\n",
        "  new_df.drop(columns=[\"town_nan\", \"flat_type_nan\", \"flat_model_nan\"], inplace=True)\n",
        "  return new_df"
      ]
    },
    {
      "cell_type": "code",
      "execution_count": 15,
      "metadata": {},
      "outputs": [],
      "source": [
        "def train_test_split(df, period):\n",
        "  train = df[df[\"period_index\"] != period]\n",
        "  test = df[df[\"period_index\"] == period]\n",
        "  \n",
        "  X_train, y_train = train[train.columns.difference([\"cpi_psm\", \"period_index\"])], train[\"cpi_psm\"]\n",
        "  X_test, y_test = test[test.columns.difference([\"cpi_psm\", \"period_index\"])], test[\"cpi_psm\"]\n",
        "  return X_train, X_test, y_train, y_test"
      ]
    },
    {
      "cell_type": "code",
      "execution_count": 16,
      "metadata": {
        "colab": {
          "base_uri": "https://localhost:8080/",
          "height": 427
        },
        "id": "dVbW39PFowuB",
        "outputId": "b156ebdb-cf93-48af-eb18-bee8a773adfc"
      },
      "outputs": [],
      "source": [
        "PATH = \"../../data_processed/resale_flat_prices\"\n",
        "SEED = 42\n",
        "\n",
        "df = pd.read_csv(os.path.join(PATH, \"engineered_data.csv\"))\n",
        "\n",
        "mean_imputer = SimpleImputer(missing_values=np.nan, strategy=\"mean\")\n",
        "mean_imputer.fit(np.array(df[\"avg_sora\"]).reshape(-1, 1))\n",
        "df[\"avg_sora\"] = mean_imputer.transform(np.array(df[\"avg_sora\"]).reshape(-1, 1))\n"
      ]
    },
    {
      "cell_type": "code",
      "execution_count": 18,
      "metadata": {},
      "outputs": [],
      "source": [
        "\n",
        "new_df = process_df(df)\n",
        "sample_values = new_df.sample(frac=0.1)\n",
        "X_train_sample, X_test_sample, y_train_sample, y_test_sample = train_test_split(sample_values, pd.Period(value=\"2022Q3\"))"
      ]
    },
    {
      "cell_type": "markdown",
      "metadata": {},
      "source": [
        "### Selecting parameters using sampled data"
      ]
    },
    {
      "cell_type": "code",
      "execution_count": 41,
      "metadata": {
        "colab": {
          "background_save": true,
          "base_uri": "https://localhost:8080/"
        },
        "id": "41CWKLb8sNz3",
        "outputId": "9ef97cd0-a74f-4cb0-bfb2-6db8d007c577"
      },
      "outputs": [
        {
          "name": "stdout",
          "output_type": "stream",
          "text": [
            "Fitting 5 folds for each of 12 candidates, totalling 60 fits\n",
            "[CV 1/5] END n_jobs=-1, n_neighbors=2, p=1, weights=uniform;, score=(train=-314.057, test=-556.932) total time=  28.8s\n",
            "[CV 2/5] END n_jobs=-1, n_neighbors=2, p=1, weights=uniform;, score=(train=-312.144, test=-577.918) total time=  27.3s\n",
            "[CV 3/5] END n_jobs=-1, n_neighbors=2, p=1, weights=uniform;, score=(train=-315.372, test=-562.054) total time=  27.8s\n",
            "[CV 4/5] END n_jobs=-1, n_neighbors=2, p=1, weights=uniform;, score=(train=-314.229, test=-578.042) total time=  26.1s\n",
            "[CV 5/5] END n_jobs=-1, n_neighbors=2, p=1, weights=uniform;, score=(train=-311.052, test=-572.203) total time=  28.0s\n",
            "[CV 1/5] END n_jobs=-1, n_neighbors=2, p=1, weights=distance;, score=(train=-10.084, test=-548.590) total time=  26.0s\n",
            "[CV 2/5] END n_jobs=-1, n_neighbors=2, p=1, weights=distance;, score=(train=-10.875, test=-568.825) total time=  26.7s\n",
            "[CV 3/5] END n_jobs=-1, n_neighbors=2, p=1, weights=distance;, score=(train=-10.112, test=-553.089) total time=  26.1s\n",
            "[CV 4/5] END n_jobs=-1, n_neighbors=2, p=1, weights=distance;, score=(train=-11.427, test=-567.713) total time=  26.1s\n",
            "[CV 5/5] END n_jobs=-1, n_neighbors=2, p=1, weights=distance;, score=(train=-10.007, test=-563.816) total time=  26.8s\n",
            "[CV 1/5] END n_jobs=-1, n_neighbors=2, p=2, weights=uniform;, score=(train=-385.666, test=-681.500) total time=  24.8s\n",
            "[CV 2/5] END n_jobs=-1, n_neighbors=2, p=2, weights=uniform;, score=(train=-384.206, test=-701.160) total time=  24.6s\n",
            "[CV 3/5] END n_jobs=-1, n_neighbors=2, p=2, weights=uniform;, score=(train=-383.909, test=-687.062) total time=  25.6s\n",
            "[CV 4/5] END n_jobs=-1, n_neighbors=2, p=2, weights=uniform;, score=(train=-383.256, test=-700.186) total time=  24.4s\n",
            "[CV 5/5] END n_jobs=-1, n_neighbors=2, p=2, weights=uniform;, score=(train=-384.491, test=-683.807) total time=  26.7s\n",
            "[CV 1/5] END n_jobs=-1, n_neighbors=2, p=2, weights=distance;, score=(train=-10.084, test=-674.327) total time=  25.3s\n",
            "[CV 2/5] END n_jobs=-1, n_neighbors=2, p=2, weights=distance;, score=(train=-10.875, test=-693.062) total time=  25.8s\n",
            "[CV 3/5] END n_jobs=-1, n_neighbors=2, p=2, weights=distance;, score=(train=-10.112, test=-681.627) total time=  25.7s\n",
            "[CV 4/5] END n_jobs=-1, n_neighbors=2, p=2, weights=distance;, score=(train=-11.427, test=-692.578) total time=  26.6s\n",
            "[CV 5/5] END n_jobs=-1, n_neighbors=2, p=2, weights=distance;, score=(train=-10.007, test=-678.496) total time=  24.8s\n",
            "[CV 1/5] END n_jobs=-1, n_neighbors=4, p=1, weights=uniform;, score=(train=-417.536, test=-541.116) total time=  25.6s\n",
            "[CV 2/5] END n_jobs=-1, n_neighbors=4, p=1, weights=uniform;, score=(train=-413.847, test=-562.047) total time=  23.2s\n",
            "[CV 3/5] END n_jobs=-1, n_neighbors=4, p=1, weights=uniform;, score=(train=-417.779, test=-547.576) total time=  23.8s\n",
            "[CV 4/5] END n_jobs=-1, n_neighbors=4, p=1, weights=uniform;, score=(train=-414.527, test=-562.299) total time=  24.2s\n",
            "[CV 5/5] END n_jobs=-1, n_neighbors=4, p=1, weights=uniform;, score=(train=-415.041, test=-545.571) total time=  24.1s\n",
            "[CV 1/5] END n_jobs=-1, n_neighbors=4, p=1, weights=distance;, score=(train=-10.084, test=-525.545) total time=  24.2s\n",
            "[CV 2/5] END n_jobs=-1, n_neighbors=4, p=1, weights=distance;, score=(train=-10.833, test=-545.241) total time=  23.9s\n",
            "[CV 3/5] END n_jobs=-1, n_neighbors=4, p=1, weights=distance;, score=(train=-10.112, test=-532.010) total time=  27.3s\n",
            "[CV 4/5] END n_jobs=-1, n_neighbors=4, p=1, weights=distance;, score=(train=-11.388, test=-545.045) total time=  24.7s\n",
            "[CV 5/5] END n_jobs=-1, n_neighbors=4, p=1, weights=distance;, score=(train=-10.007, test=-531.886) total time=  22.1s\n",
            "[CV 1/5] END n_jobs=-1, n_neighbors=4, p=2, weights=uniform;, score=(train=-502.208, test=-644.336) total time=  22.3s\n",
            "[CV 2/5] END n_jobs=-1, n_neighbors=4, p=2, weights=uniform;, score=(train=-497.317, test=-662.299) total time=  23.4s\n",
            "[CV 3/5] END n_jobs=-1, n_neighbors=4, p=2, weights=uniform;, score=(train=-501.518, test=-654.999) total time=  23.7s\n",
            "[CV 4/5] END n_jobs=-1, n_neighbors=4, p=2, weights=uniform;, score=(train=-498.440, test=-666.853) total time=  21.8s\n",
            "[CV 5/5] END n_jobs=-1, n_neighbors=4, p=2, weights=uniform;, score=(train=-500.336, test=-648.360) total time=  21.7s\n",
            "[CV 1/5] END n_jobs=-1, n_neighbors=4, p=2, weights=distance;, score=(train=-10.084, test=-633.387) total time=  23.1s\n",
            "[CV 2/5] END n_jobs=-1, n_neighbors=4, p=2, weights=distance;, score=(train=-10.833, test=-651.160) total time=  22.6s\n",
            "[CV 3/5] END n_jobs=-1, n_neighbors=4, p=2, weights=distance;, score=(train=-10.112, test=-644.408) total time=  22.6s\n",
            "[CV 4/5] END n_jobs=-1, n_neighbors=4, p=2, weights=distance;, score=(train=-11.388, test=-655.243) total time=  22.1s\n",
            "[CV 5/5] END n_jobs=-1, n_neighbors=4, p=2, weights=distance;, score=(train=-10.007, test=-638.487) total time=  22.0s\n",
            "[CV 1/5] END n_jobs=-1, n_neighbors=8, p=1, weights=uniform;, score=(train=-489.406, test=-548.802) total time=  24.1s\n",
            "[CV 2/5] END n_jobs=-1, n_neighbors=8, p=1, weights=uniform;, score=(train=-486.330, test=-568.682) total time=  24.4s\n",
            "[CV 3/5] END n_jobs=-1, n_neighbors=8, p=1, weights=uniform;, score=(train=-489.313, test=-561.681) total time=  24.5s\n",
            "[CV 4/5] END n_jobs=-1, n_neighbors=8, p=1, weights=uniform;, score=(train=-485.791, test=-573.265) total time=  23.6s\n",
            "[CV 5/5] END n_jobs=-1, n_neighbors=8, p=1, weights=uniform;, score=(train=-488.212, test=-550.201) total time=  22.9s\n",
            "[CV 1/5] END n_jobs=-1, n_neighbors=8, p=1, weights=distance;, score=(train=-10.084, test=-528.092) total time=  23.5s\n",
            "[CV 2/5] END n_jobs=-1, n_neighbors=8, p=1, weights=distance;, score=(train=-10.833, test=-548.200) total time=  23.8s\n",
            "[CV 3/5] END n_jobs=-1, n_neighbors=8, p=1, weights=distance;, score=(train=-10.112, test=-539.806) total time=  23.6s\n",
            "[CV 4/5] END n_jobs=-1, n_neighbors=8, p=1, weights=distance;, score=(train=-11.388, test=-551.087) total time=  24.1s\n",
            "[CV 5/5] END n_jobs=-1, n_neighbors=8, p=1, weights=distance;, score=(train=-10.007, test=-531.855) total time=  22.9s\n",
            "[CV 1/5] END n_jobs=-1, n_neighbors=8, p=2, weights=uniform;, score=(train=-568.596, test=-637.440) total time=  22.2s\n",
            "[CV 2/5] END n_jobs=-1, n_neighbors=8, p=2, weights=uniform;, score=(train=-565.856, test=-655.425) total time=  21.8s\n",
            "[CV 3/5] END n_jobs=-1, n_neighbors=8, p=2, weights=uniform;, score=(train=-567.403, test=-649.401) total time=  22.9s\n",
            "[CV 4/5] END n_jobs=-1, n_neighbors=8, p=2, weights=uniform;, score=(train=-565.156, test=-658.953) total time=  21.5s\n",
            "[CV 5/5] END n_jobs=-1, n_neighbors=8, p=2, weights=uniform;, score=(train=-569.590, test=-636.157) total time=  20.4s\n",
            "[CV 1/5] END n_jobs=-1, n_neighbors=8, p=2, weights=distance;, score=(train=-10.084, test=-623.646) total time=  24.2s\n",
            "[CV 2/5] END n_jobs=-1, n_neighbors=8, p=2, weights=distance;, score=(train=-10.833, test=-641.691) total time=  21.7s\n",
            "[CV 3/5] END n_jobs=-1, n_neighbors=8, p=2, weights=distance;, score=(train=-10.112, test=-635.349) total time=  22.6s\n",
            "[CV 4/5] END n_jobs=-1, n_neighbors=8, p=2, weights=distance;, score=(train=-11.388, test=-644.361) total time=  24.3s\n",
            "[CV 5/5] END n_jobs=-1, n_neighbors=8, p=2, weights=distance;, score=(train=-10.007, test=-623.651) total time=  21.6s\n",
            "Best Score: -535.9455810697084\n",
            "Best Hyperparameters: {'n_jobs': -1, 'n_neighbors': 4, 'p': 1, 'weights': 'distance'}\n"
          ]
        }
      ],
      "source": [
        "#defining potential parameters\n",
        "param = [{'n_neighbors': [2,4,8], \n",
        "          'weights': ['uniform','distance'],\n",
        "          'p':[1,2], 'n_jobs':[-1]}]\n",
        "#defining evaluation\n",
        "#defining scorer\n",
        "\n",
        "#defining grid search\n",
        "grid = GridSearchCV(estimator = KNeighborsRegressor(), \n",
        "                      param_grid = param, \n",
        "                      verbose = 4,  \n",
        "                      scoring = 'neg_root_mean_squared_error',\n",
        "                      return_train_score = True,\n",
        "                      #refit=False\n",
        "                    )\n",
        "\n",
        "#executing grid search\n",
        "result = grid.fit(X_train_sample,y_train_sample)\n",
        "\n",
        "#summarising result\n",
        "print('Best Score: %s' % result.best_score_)\n",
        "print('Best Hyperparameters: %s' % result.best_params_)"
      ]
    },
    {
      "cell_type": "code",
      "execution_count": 42,
      "metadata": {},
      "outputs": [
        {
          "data": {
            "text/plain": [
              "-875.121735286981"
            ]
          },
          "execution_count": 42,
          "metadata": {},
          "output_type": "execute_result"
        }
      ],
      "source": [
        "pickle.dump(grid, open(\"grid_knn_v2.sav\", \"wb\"))\n",
        "grid.score(X_test_sample, y_test_sample)"
      ]
    },
    {
      "cell_type": "markdown",
      "metadata": {},
      "source": [
        "### Training with the best estimator"
      ]
    },
    {
      "cell_type": "code",
      "execution_count": 56,
      "metadata": {},
      "outputs": [],
      "source": [
        "#K Neighbors regression with best estimator\n",
        "model = result.best_estimator_\n",
        "\n",
        "X_train, X_test, y_train, y_test = train_test_split(new_df, pd.Period(value = \"2022Q3\"))"
      ]
    },
    {
      "cell_type": "code",
      "execution_count": 59,
      "metadata": {},
      "outputs": [
        {
          "name": "stdout",
          "output_type": "stream",
          "text": [
            "(4773, 56)\n",
            "(4773,)\n"
          ]
        }
      ],
      "source": [
        "print(X_test.shape)\n",
        "print(y_test.shape)"
      ]
    },
    {
      "cell_type": "code",
      "execution_count": 57,
      "metadata": {},
      "outputs": [
        {
          "data": {
            "text/plain": [
              "KNeighborsRegressor(n_jobs=-1, n_neighbors=4, p=1, weights='distance')"
            ]
          },
          "execution_count": 57,
          "metadata": {},
          "output_type": "execute_result"
        }
      ],
      "source": [
        "model.fit(X_train, y_train)"
      ]
    },
    {
      "cell_type": "code",
      "execution_count": 58,
      "metadata": {
        "id": "KEqDVMn8zAVX"
      },
      "outputs": [
        {
          "data": {
            "text/plain": [
              "0.8304149705370834"
            ]
          },
          "execution_count": 58,
          "metadata": {},
          "output_type": "execute_result"
        }
      ],
      "source": [
        "\n",
        "y_pred = model.predict(X_test)\n",
        "model.score(X_test, y_test)"
      ]
    },
    {
      "cell_type": "code",
      "execution_count": 60,
      "metadata": {},
      "outputs": [],
      "source": [
        "pickle.dump(model, open(\"final_model_knn_v2.pkl\", \"wb\"))"
      ]
    },
    {
      "cell_type": "markdown",
      "metadata": {},
      "source": [
        "### Model analysis"
      ]
    },
    {
      "cell_type": "code",
      "execution_count": 61,
      "metadata": {},
      "outputs": [
        {
          "data": {
            "image/png": "[encoded data removed]",
            "text/plain": [
              "<Figure size 432x288 with 1 Axes>"
            ]
          },
          "metadata": {
            "needs_background": "light"
          },
          "output_type": "display_data"
        }
      ],
      "source": [
        "plt.scatter(y_test, y_pred)\n",
        "plt.title(\"Predicted vs Actual CPI-adjusted Per-square-metre Prices\\n(kNN)\")\n",
        "plt.xlabel(\"Actual\")\n",
        "plt.ylabel(\"Predicted\")\n",
        "plt.axline((0, 0), slope=1, color=\"red\")\n",
        "plt.show()"
      ]
    },
    {
      "cell_type": "code",
      "execution_count": 62,
      "metadata": {},
      "outputs": [],
      "source": [
        "\n",
        "def produce_metrics(y_test, y_pred):\n",
        "  mse = mean_squared_error(y_test, y_pred)\n",
        "  mae = mean_absolute_error(y_test, y_pred)\n",
        "  rtwo = r2_score(y_test, y_pred)\n",
        "  mape = mean_absolute_percentage_error(y_test, y_pred)\n",
        "  mdape = median_absolute_error(y_test, y_pred)/np.median(y_test)\n",
        "  return mse, mse**(0.5), mae, rtwo, mape, mdape"
      ]
    },
    {
      "cell_type": "code",
      "execution_count": 63,
      "metadata": {},
      "outputs": [
        {
          "name": "stdout",
          "output_type": "stream",
          "text": [
            "MSE: 287519.4871288393\n",
            "RMSE: 536.2084362716045\n",
            "MAE: 351.05745057905375\n",
            "R2: 0.8304149705370834\n",
            "MAPE: 0.05906290626563422\n",
            "MdAPE: 0.04294364570072642\n"
          ]
        }
      ],
      "source": [
        "mse, rmse, mae, rtwo, mape, mdape = produce_metrics(y_test, y_pred)\n",
        "print(f\"MSE: {mse}\")\n",
        "print(f\"RMSE: {rmse}\")\n",
        "print(f\"MAE: {mae}\")\n",
        "print(f\"R2: {rtwo}\")\n",
        "print(f\"MAPE: {mape}\")\n",
        "print(f\"MdAPE: {mdape}\")"
      ]
    },
    {
      "cell_type": "code",
      "execution_count": 64,
      "metadata": {},
      "outputs": [],
      "source": [
        "pred_df = pd.merge(pd.Series(y_test, name=\"y_test\").reset_index(drop=True), pd.Series(y_pred, name=\"y_pred\"), right_index=True, left_index=True)"
      ]
    },
    {
      "cell_type": "code",
      "execution_count": 65,
      "metadata": {},
      "outputs": [],
      "source": [
        "pred_df.to_csv(\"pred_df_2.csv\")"
      ]
    },
    {
      "cell_type": "code",
      "execution_count": 66,
      "metadata": {},
      "outputs": [
        {
          "name": "stdout",
          "output_type": "stream",
          "text": [
            "861054    -665.178572\n",
            "861055     -95.926875\n",
            "861056     173.818207\n",
            "861057     249.801440\n",
            "861058    1137.996437\n",
            "             ...     \n",
            "865822    -722.907606\n",
            "865823    -397.389965\n",
            "865824    -466.020098\n",
            "865825     209.474920\n",
            "865826     620.919426\n",
            "Name: cpi_psm, Length: 4773, dtype: float64\n",
            "861054    6054.945055\n",
            "861055    6932.869145\n",
            "861056    5968.135807\n",
            "861057    6402.182047\n",
            "861058    7271.286988\n",
            "             ...     \n",
            "865822    4373.831776\n",
            "865823    6170.212766\n",
            "865824    5705.882353\n",
            "865825    5671.641791\n",
            "865826    6450.336283\n",
            "Name: cpi_psm, Length: 4773, dtype: float64\n"
          ]
        }
      ],
      "source": [
        "neg_test = y_test - y_pred\n",
        "print(neg_test)\n",
        "print(y_test)"
      ]
    },
    {
      "cell_type": "code",
      "execution_count": 67,
      "metadata": {},
      "outputs": [
        {
          "name": "stdout",
          "output_type": "stream",
          "text": [
            "[6720.12362657 7028.79601975 5794.31759986 ... 6171.90245078 5462.16687148\n",
            " 5829.41685707]\n"
          ]
        }
      ],
      "source": [
        "print(y_pred)"
      ]
    },
    {
      "cell_type": "code",
      "execution_count": null,
      "metadata": {},
      "outputs": [],
      "source": []
    }
  ],
  "metadata": {
    "colab": {
      "collapsed_sections": [],
      "machine_shape": "hm",
      "provenance": []
    },
    "gpuClass": "premium",
    "kernelspec": {
      "display_name": "Python 3.10.6 64-bit",
      "language": "python",
      "name": "python3"
    },
    "language_info": {
      "codemirror_mode": {
        "name": "ipython",
        "version": 3
      },
      "file_extension": ".py",
      "mimetype": "text/x-python",
      "name": "python",
      "nbconvert_exporter": "python",
      "pygments_lexer": "ipython3",
      "version": "3.10.6"
    },
    "vscode": {
      "interpreter": {
        "hash": "aee8b7b246df8f9039afb4144a1f6fd8d2ca17a180786b69acc140d282b71a49"
      }
    }
  },
  "nbformat": 4,
  "nbformat_minor": 0
}
